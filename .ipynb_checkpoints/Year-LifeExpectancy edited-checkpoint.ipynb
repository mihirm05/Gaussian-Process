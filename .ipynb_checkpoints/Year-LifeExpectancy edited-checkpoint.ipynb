{
 "cells": [
  {
   "cell_type": "code",
   "execution_count": 1,
   "metadata": {
    "scrolled": false
   },
   "outputs": [],
   "source": [
    "import numpy as np\n",
    "import random \n",
    "import pandas as pd\n",
    "import matplotlib.pyplot as plt \n",
    "import seaborn as sns\n",
    "\n",
    "from regression_utils import *\n",
    "\n",
    "np.set_printoptions(suppress=True)\n",
    "%matplotlib inline"
   ]
  },
  {
   "cell_type": "code",
   "execution_count": 2,
   "metadata": {},
   "outputs": [],
   "source": [
    "# convention followed in relation to scikit documentation \n",
    "# y = countryQuantity \n",
    "# y1 = countryQuantityTrain\n",
    "# Y = countryQuantityTest\n",
    "# y_pred = countryQuantityPredict\n",
    "\n",
    "# X = years \n",
    "# X1 = yearsTrain\n",
    "# x_mis = yearsTest\n",
    "# x = yearsPredict\n",
    "\n",
    "# c = combinedZip"
   ]
  },
  {
   "cell_type": "code",
   "execution_count": 3,
   "metadata": {
    "scrolled": false
   },
   "outputs": [
    {
     "name": "stdout",
     "output_type": "stream",
     "text": [
      "998     85.0\n",
      "1006    78.5\n",
      "994     81.0\n",
      "1004    79.2\n",
      "997     86.0\n",
      "1009    78.0\n",
      "995     89.0\n",
      "1005    79.1\n",
      "1000    80.0\n",
      "996     86.0\n",
      "1002    79.8\n",
      "Name: Life expectancy, dtype: float64\n",
      "999     81.0\n",
      "1001    79.9\n",
      "1003    79.6\n",
      "1007    78.4\n",
      "1008    78.3\n",
      "Name: Life expectancy, dtype: float64\n",
      "      Year  Total expenditure\n",
      "998   2011            1.93000\n",
      "1006  2003            1.62000\n",
      "994   2015            5.93819\n",
      "1004  2005            1.52000\n",
      "997   2012            1.99000\n",
      "1009  2000            1.10000\n",
      "995   2014           11.30000\n",
      "1005  2004            1.37000\n",
      "1000  2009           11.40000\n",
      "996   2013           11.16000\n",
      "1002  2007            1.18000\n",
      "      Year  Total expenditure\n",
      "999   2010              11.25\n",
      "1001  2008               1.39\n",
      "1003  2006               1.34\n",
      "1007  2002               1.40\n",
      "1008  2001               1.15\n"
     ]
    }
   ],
   "source": [
    "#reading data from csv \n",
    "df = pd.read_csv('datasets_12603_17232_Life Expectancy Data.csv')\n",
    "df.fillna(df.mean(), inplace=True)\n",
    "# Quantity variation of 3 countries (Germany, Netherlands, Spain)\n",
    "# change here \n",
    "country = 'Germany'\n",
    "countryQuantity = 'Life expectancy'\n",
    "countryDataFrame = countryDF(country, df)   \n",
    "\n",
    "randomRowsTrain = countryDataFrame.sample(frac=0.7)\n",
    "randomRowsTest = countryDataFrame.loc[~countryDataFrame.index.isin(randomRowsTrain.index)]\n",
    "\n",
    "countryQuantityTrain = columnExtractor(randomRowsTrain, countryQuantity)\n",
    "countryQuantityTest = columnExtractor(randomRowsTest, countryQuantity)\n",
    "print(countryQuantityTrain)\n",
    "print(countryQuantityTest)\n",
    "\n",
    "\n",
    "desiredFeatures = ['Year', 'Total expenditure']\n",
    "allFeaturesTrain = variableColumnExtractor(randomRowsTrain, desiredFeatures)\n",
    "allFeaturesTest = variableColumnExtractor(randomRowsTest, desiredFeatures)\n",
    "print(allFeaturesTrain)\n",
    "print(allFeaturesTest)\n",
    "\n",
    "#df_percent = df.sample(frac=0.7)\n",
    "#df_rest = df.loc[~df.index.isin(df_percent.index)]\n",
    "#countryQuantityTrain, yearsTrain, countryQuantityTest, yearsTest\n"
   ]
  },
  {
   "cell_type": "code",
   "execution_count": 4,
   "metadata": {},
   "outputs": [
    {
     "name": "stdout",
     "output_type": "stream",
     "text": [
      "length scale is:  2\n",
      "[80.78743287 80.83866708 79.46901063 78.54403885 78.70207105]\n"
     ]
    }
   ],
   "source": [
    "lengthScale = np.random.randint(50) \n",
    "kernel = C(1.0, (1e-3, 1e3)) * RBF(lengthScale, (1e-2, 1e2))\n",
    "print('length scale is: ',lengthScale)\n",
    "gp = GaussianProcessRegressor(kernel=kernel, n_restarts_optimizer=9)\n",
    "\n",
    "gp.fit(allFeaturesTrain, countryQuantityTrain)\n",
    "countryQuantityPredict, sigma = gp.predict(allFeaturesTest, return_std=True)\n",
    "\n",
    "print(countryQuantityPredict)"
   ]
  },
  {
   "cell_type": "code",
   "execution_count": null,
   "metadata": {},
   "outputs": [],
   "source": [
    "countryQuantityPredictLR = linearRegression(yearsTrain, countryQuantityTrain, yearsTest, countryQuantityTest, years, countryQuantity)"
   ]
  },
  {
   "cell_type": "code",
   "execution_count": null,
   "metadata": {
    "scrolled": false
   },
   "outputs": [],
   "source": [
    "# error computation for GPR \n",
    "years = columnExtractor(countryDataFrame,'Year').tolist()\n",
    "error = errorComputation(countryDataFrame, countryQuantityPredict, 'Life expectancy',regression_type='GPR')\n",
    "#print('GPR error: ',error)\n",
    "errorPlot(years, error, 'Year', 'Relative Error in %',regression_type='GPR',color='#1f77b4')\n",
    "\n",
    "#print('------------------------------------------')\n",
    "\n",
    "years = columnExtractor(countryDataFrame,'Year').tolist()\n",
    "error = errorComputation(countryDataFrame, countryQuantityPredictLR, 'Life expectancy',regression_type='LR')\n",
    "#print('LR error ',error)\n",
    "errorPlot(years, error, 'Year', 'Relative Error in %',regression_type='LR',color='#ff7f0e')\n",
    "\n",
    "plt.show()\n",
    "\n",
    "#go with rmse for outliers \n",
    "#try using normalization"
   ]
  },
  {
   "cell_type": "code",
   "execution_count": null,
   "metadata": {},
   "outputs": [],
   "source": [
    "#https://yugeten.github.io/posts/2019/09/GP/\n",
    "#https://scikit-learn.org/stable/auto_examples/gaussian_process/plot_gpr_co2.html\n",
    "#https://scikit-learn.org/stable/auto_examples/gaussian_process/plot_gpr_co2.html#sphx-glr-download-auto-examples-gaussian-process-plot-gpr-co2-py\n",
    "#https://ogrisel.github.io/scikit-learn.org/sklearn-tutorial/tutorial/statistical_inference/supervised_learning.html\n"
   ]
  },
  {
   "cell_type": "code",
   "execution_count": null,
   "metadata": {},
   "outputs": [],
   "source": []
  },
  {
   "cell_type": "code",
   "execution_count": null,
   "metadata": {},
   "outputs": [],
   "source": [
    "\n"
   ]
  }
 ],
 "metadata": {
  "kernelspec": {
   "display_name": "Python 3",
   "language": "python",
   "name": "python3"
  },
  "language_info": {
   "codemirror_mode": {
    "name": "ipython",
    "version": 3
   },
   "file_extension": ".py",
   "mimetype": "text/x-python",
   "name": "python",
   "nbconvert_exporter": "python",
   "pygments_lexer": "ipython3",
   "version": "3.7.3"
  }
 },
 "nbformat": 4,
 "nbformat_minor": 2
}
