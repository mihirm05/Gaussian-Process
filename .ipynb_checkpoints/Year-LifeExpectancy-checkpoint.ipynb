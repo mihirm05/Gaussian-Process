{
 "cells": [
  {
   "cell_type": "code",
   "execution_count": null,
   "metadata": {
    "scrolled": false
   },
   "outputs": [],
   "source": [
    "import numpy as np\n",
    "import random \n",
    "import pandas as pd\n",
    "import matplotlib.pyplot as plt \n",
    "\n",
    "from regression_utils import *\n",
    "\n",
    "np.set_printoptions(suppress=True)\n",
    "%matplotlib inline"
   ]
  },
  {
   "cell_type": "code",
   "execution_count": null,
   "metadata": {},
   "outputs": [],
   "source": [
    "# convention followed in relation to scikit documentation \n",
    "# y = countryQuantity \n",
    "# y1 = countryQuantityTrain\n",
    "# Y = countryQuantityTest\n",
    "# y_pred = countryQuantityPredict\n",
    "\n",
    "# X = years \n",
    "# X1 = yearsTrain\n",
    "# x_mis = yearsTest\n",
    "# x = yearsPredict\n",
    "\n",
    "# c = combinedZip"
   ]
  },
  {
   "cell_type": "code",
   "execution_count": null,
   "metadata": {
    "scrolled": false
   },
   "outputs": [],
   "source": [
    "#reading data from csv \n",
    "df = pd.read_csv('datasets_12603_17232_Life Expectancy Data.csv')\n",
    "\n",
    "# Quantity variation of 3 countries (Germany, Netherlands, Spain)\n",
    "# change here \n",
    "country = 'India'\n",
    "countryDataFrame = countryDF(country, df)\n",
    "countryQuantity = columnExtractor(countryDataFrame,'Life expectancy')\n",
    "print(countryQuantity)\n",
    "    \n",
    "years = columnExtractor(countryDataFrame,'Year')\n",
    "print(years)\n",
    "\n",
    "percentage_expenditure = columnExtractor(countryDataFrame,'percentage expenditure')\n",
    "print(percentage_expenditure)\n",
    "\n",
    "#plotQuantities(years, countryQuantity,'Years','Population', country,'Population vs Years')\n",
    "plotQuantities(years, countryQuantity, 'Years', 'Life Expectancy', country, 'Life Expectancy vs Years')\n",
    "\n",
    "split = np.random.randint(1,15)\n",
    "countryQuantityTrain, yearsTrain, countryQuantityTest, yearsTest = randomizer(countryQuantity, years, split)\n"
   ]
  },
  {
   "cell_type": "code",
   "execution_count": null,
   "metadata": {},
   "outputs": [],
   "source": [
    "countryQuantityPredict, sigma = gaussianRegression(yearsTrain, countryQuantityTrain, yearsTest, countryQuantityTest, years, countryQuantity) "
   ]
  },
  {
   "cell_type": "code",
   "execution_count": null,
   "metadata": {},
   "outputs": [],
   "source": [
    "countryQuantityPredictLR = linearRegression(yearsTrain, countryQuantityTrain, yearsTest, countryQuantityTest, years, countryQuantity)"
   ]
  },
  {
   "cell_type": "code",
   "execution_count": null,
   "metadata": {
    "scrolled": false
   },
   "outputs": [],
   "source": [
    "# error computation for GPR \n",
    "years = columnExtractor(countryDataFrame,'Year').tolist()\n",
    "error = errorComputation(countryDataFrame, countryQuantityPredict, 'Life expectancy',regression_type='GPR')\n",
    "print('GPR error: ',error)\n",
    "errorPlot(years, error, 'Year', 'Relative Error in %',regression_type='GPR',color='#1f77b4')\n",
    "\n",
    "print('------------------------------------------')\n",
    "\n",
    "years = columnExtractor(countryDataFrame,'Year').tolist()\n",
    "error = errorComputation(countryDataFrame, countryQuantityPredictLR, 'Life expectancy',regression_type='LR')\n",
    "print('LR error ',error)\n",
    "errorPlot(years, error, 'Year', 'Relative Error in %',regression_type='LR',color='#ff7f0e')\n",
    "\n",
    "plt.show()\n",
    "\n",
    "\n",
    "#go with rmse for outliers \n",
    "#try using normalization"
   ]
  },
  {
   "cell_type": "code",
   "execution_count": null,
   "metadata": {},
   "outputs": [],
   "source": []
  }
 ],
 "metadata": {
  "kernelspec": {
   "display_name": "Python 3",
   "language": "python",
   "name": "python3"
  },
  "language_info": {
   "codemirror_mode": {
    "name": "ipython",
    "version": 3
   },
   "file_extension": ".py",
   "mimetype": "text/x-python",
   "name": "python",
   "nbconvert_exporter": "python",
   "pygments_lexer": "ipython3",
   "version": "3.7.3"
  }
 },
 "nbformat": 4,
 "nbformat_minor": 2
}
