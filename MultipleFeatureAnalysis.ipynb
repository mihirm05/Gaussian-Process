{
 "cells": [
  {
   "cell_type": "code",
   "execution_count": 1,
   "metadata": {
    "scrolled": false
   },
   "outputs": [],
   "source": [
    "import numpy as np\n",
    "import random \n",
    "import pandas as pd\n",
    "import matplotlib.pyplot as plt \n",
    "import seaborn as sns\n",
    "\n",
    "from regression_utils import *\n",
    "\n",
    "np.set_printoptions(suppress=True)\n",
    "%matplotlib inline"
   ]
  },
  {
   "cell_type": "code",
   "execution_count": 2,
   "metadata": {},
   "outputs": [],
   "source": [
    "# convention followed in relation to scikit documentation \n",
    "# y = countryQuantity \n",
    "# y1 = countryQuantityTrain\n",
    "# Y = countryQuantityTest\n",
    "# y_pred = countryQuantityPredict\n",
    "\n",
    "# X = years \n",
    "# X1 = yearsTrain\n",
    "# x_mis = yearsTest\n",
    "# x = yearsPredict\n",
    "\n",
    "# c = combinedZip"
   ]
  },
  {
   "cell_type": "code",
   "execution_count": 3,
   "metadata": {
    "scrolled": false
   },
   "outputs": [
    {
     "name": "stdout",
     "output_type": "stream",
     "text": [
      "Training data (X) : \n",
      " 996     86.0\n",
      "997     86.0\n",
      "1002    79.8\n",
      "998     85.0\n",
      "995     89.0\n",
      "1000    80.0\n",
      "1005    79.1\n",
      "999     81.0\n",
      "1003    79.6\n",
      "1004    79.2\n",
      "1006    78.5\n",
      "Name: Life expectancy, dtype: float64\n",
      "Test data (X): \n",
      " 994     81.0\n",
      "1001    79.9\n",
      "1007    78.4\n",
      "1008    78.3\n",
      "1009    78.0\n",
      "Name: Life expectancy, dtype: float64\n",
      "Training data (Y): \n",
      "       Year  Total expenditure\n",
      "996   2013              11.16\n",
      "997   2012               1.99\n",
      "1002  2007               1.18\n",
      "998   2011               1.93\n",
      "995   2014              11.30\n",
      "1000  2009              11.40\n",
      "1005  2004               1.37\n",
      "999   2010              11.25\n",
      "1003  2006               1.34\n",
      "1004  2005               1.52\n",
      "1006  2003               1.62\n",
      "Test data (Y): \n",
      "       Year  Total expenditure\n",
      "994   2015            5.93819\n",
      "1001  2008            1.39000\n",
      "1007  2002            1.40000\n",
      "1008  2001            1.15000\n",
      "1009  2000            1.10000\n"
     ]
    }
   ],
   "source": [
    "#reading data from csv \n",
    "df = pd.read_csv('datasets_12603_17232_Life Expectancy Data.csv')\n",
    "df.fillna(df.mean(), inplace=True)\n",
    "# Quantity variation of 3 countries (Germany, Netherlands, Spain)\n",
    "# change here \n",
    "country = 'Germany'\n",
    "countryQuantity = 'Life expectancy'\n",
    "countryDataFrame = countryDF(country, df)   \n",
    "\n",
    "randomRowsTrain = countryDataFrame.sample(frac=0.7)\n",
    "randomRowsTest = countryDataFrame.loc[~countryDataFrame.index.isin(randomRowsTrain.index)]\n",
    "\n",
    "countryQuantityTrain = columnExtractor(randomRowsTrain, countryQuantity)\n",
    "countryQuantityTest = columnExtractor(randomRowsTest, countryQuantity)\n",
    "print('Training data (X) : \\n',countryQuantityTrain)\n",
    "print('Test data (X): \\n',countryQuantityTest)\n",
    "\n",
    "\n",
    "desiredFeatures = ['Year', 'Total expenditure']\n",
    "allFeaturesTrain = variableColumnExtractor(randomRowsTrain, desiredFeatures)\n",
    "allFeaturesTest = variableColumnExtractor(randomRowsTest, desiredFeatures)\n",
    "print('Training data (Y): \\n',allFeaturesTrain)\n",
    "print('Test data (Y): \\n',allFeaturesTest)\n",
    "\n",
    "#df_percent = df.sample(frac=0.7)\n",
    "#df_rest = df.loc[~df.index.isin(df_percent.index)]\n",
    "#countryQuantityTrain, yearsTrain, countryQuantityTest, yearsTest\n"
   ]
  },
  {
   "cell_type": "code",
   "execution_count": 5,
   "metadata": {},
   "outputs": [
    {
     "name": "stdout",
     "output_type": "stream",
     "text": [
      "Test data (X): \n",
      " 994     81.0\n",
      "1001    79.9\n",
      "1007    78.4\n",
      "1008    78.3\n",
      "1009    78.0\n",
      "Name: Life expectancy, dtype: float64\n",
      "Test data (Y): \n",
      "       Year  Total expenditure\n",
      "994   2015            5.93819\n",
      "1001  2008            1.39000\n",
      "1007  2002            1.40000\n",
      "1008  2001            1.15000\n",
      "1009  2000            1.10000\n",
      "Predicted data (X): \n",
      "       Year  Total expenditure\n",
      "994   2015            5.93819\n",
      "1001  2008            1.39000\n",
      "1007  2002            1.40000\n",
      "1008  2001            1.15000\n",
      "1009  2000            1.10000\n",
      "Predicted data (Y): \n",
      " [97.92596316 80.78169504 79.11468646 80.08306333 80.23820585]\n"
     ]
    },
    {
     "name": "stderr",
     "output_type": "stream",
     "text": [
      "/home/mihir/anaconda3/lib/python3.7/site-packages/sklearn/gaussian_process/gpr.py:480: ConvergenceWarning: fmin_l_bfgs_b terminated abnormally with the  state: {'grad': array([-8.99515626, -0.0000409 ]), 'task': b'ABNORMAL_TERMINATION_IN_LNSRCH', 'funcalls': 60, 'nit': 17, 'warnflag': 2}\n",
      "  ConvergenceWarning)\n"
     ]
    }
   ],
   "source": [
    "##Gaussian regression analysis \n",
    "\n",
    "lengthScale = np.random.randint(50) \n",
    "kernel = C(1.0, (1e-3, 1e3)) * RBF(lengthScale, (1e-2, 1e2))\n",
    "\n",
    "gp = GaussianProcessRegressor(kernel=kernel, n_restarts_optimizer=9)\n",
    "\n",
    "gp.fit(allFeaturesTrain, countryQuantityTrain)\n",
    "countryQuantityPredict, sigma = gp.predict(allFeaturesTest, return_std=True)\n",
    "\n",
    "print('Test data (X): \\n',countryQuantityTest)\n",
    "print('Test data (Y): \\n',allFeaturesTest)\n",
    "print('Predicted data (X): \\n',allFeaturesTest)\n",
    "print('Predicted data (Y): \\n',countryQuantityPredict)"
   ]
  },
  {
   "cell_type": "code",
   "execution_count": 7,
   "metadata": {},
   "outputs": [
    {
     "name": "stdout",
     "output_type": "stream",
     "text": [
      "[88.73253113 82.26206361 75.94968174 74.94695835 73.90502416]\n"
     ]
    }
   ],
   "source": [
    "##Linear regression analysis \n",
    "\n",
    "regr = linear_model.LinearRegression()\n",
    "regr.fit(allFeaturesTrain, countryQuantityTrain)\n",
    "\n",
    "countryQuantityPredictLR = regr.predict(allFeaturesTest)\n",
    "\n",
    "print(countryQuantityPredictLR)"
   ]
  },
  {
   "cell_type": "code",
   "execution_count": null,
   "metadata": {
    "scrolled": false
   },
   "outputs": [],
   "source": [
    "# error computation for GPR \n",
    "years = columnExtractor(countryDataFrame,'Year').tolist()\n",
    "error = errorComputation(countryDataFrame, countryQuantityPredict, 'Life expectancy',regression_type='GPR')\n",
    "#print('GPR error: ',error)\n",
    "errorPlot(years, error, 'Year', 'Relative Error in %',regression_type='GPR',color='#1f77b4')\n",
    "\n",
    "#print('------------------------------------------')\n",
    "\n",
    "years = columnExtractor(countryDataFrame,'Year').tolist()\n",
    "error = errorComputation(countryDataFrame, countryQuantityPredictLR, 'Life expectancy',regression_type='LR')\n",
    "#print('LR error ',error)\n",
    "errorPlot(years, error, 'Year', 'Relative Error in %',regression_type='LR',color='#ff7f0e')\n",
    "\n",
    "plt.show()\n",
    "\n",
    "#go with rmse for outliers \n",
    "#try using normalization"
   ]
  },
  {
   "cell_type": "code",
   "execution_count": null,
   "metadata": {},
   "outputs": [],
   "source": [
    "#https://yugeten.github.io/posts/2019/09/GP/\n",
    "#https://scikit-learn.org/stable/auto_examples/gaussian_process/plot_gpr_co2.html\n",
    "#https://scikit-learn.org/stable/auto_examples/gaussian_process/plot_gpr_co2.html#sphx-glr-download-auto-examples-gaussian-process-plot-gpr-co2-py\n",
    "#https://ogrisel.github.io/scikit-learn.org/sklearn-tutorial/tutorial/statistical_inference/supervised_learning.html\n"
   ]
  },
  {
   "cell_type": "code",
   "execution_count": null,
   "metadata": {},
   "outputs": [],
   "source": []
  },
  {
   "cell_type": "code",
   "execution_count": null,
   "metadata": {},
   "outputs": [],
   "source": [
    "\n"
   ]
  }
 ],
 "metadata": {
  "kernelspec": {
   "display_name": "Python 3",
   "language": "python",
   "name": "python3"
  },
  "language_info": {
   "codemirror_mode": {
    "name": "ipython",
    "version": 3
   },
   "file_extension": ".py",
   "mimetype": "text/x-python",
   "name": "python",
   "nbconvert_exporter": "python",
   "pygments_lexer": "ipython3",
   "version": "3.7.3"
  }
 },
 "nbformat": 4,
 "nbformat_minor": 2
}
