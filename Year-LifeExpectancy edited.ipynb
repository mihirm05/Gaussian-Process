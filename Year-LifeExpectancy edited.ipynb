{
 "cells": [
  {
   "cell_type": "code",
   "execution_count": 1,
   "metadata": {
    "scrolled": false
   },
   "outputs": [],
   "source": [
    "import numpy as np\n",
    "import random \n",
    "import pandas as pd\n",
    "import matplotlib.pyplot as plt \n",
    "import seaborn as sns\n",
    "\n",
    "from regression_utils import *\n",
    "\n",
    "np.set_printoptions(suppress=True)\n",
    "%matplotlib inline"
   ]
  },
  {
   "cell_type": "code",
   "execution_count": 2,
   "metadata": {},
   "outputs": [],
   "source": [
    "# convention followed in relation to scikit documentation \n",
    "# y = countryQuantity \n",
    "# y1 = countryQuantityTrain\n",
    "# Y = countryQuantityTest\n",
    "# y_pred = countryQuantityPredict\n",
    "\n",
    "# X = years \n",
    "# X1 = yearsTrain\n",
    "# x_mis = yearsTest\n",
    "# x = yearsPredict\n",
    "\n",
    "# c = combinedZip"
   ]
  },
  {
   "cell_type": "code",
   "execution_count": 4,
   "metadata": {
    "scrolled": false
   },
   "outputs": [
    {
     "name": "stdout",
     "output_type": "stream",
     "text": [
      "      Country  Year     Status  Life expectancy  Adult Mortality  \\\n",
      "1001  Germany  2008  Developed             79.9              8.0   \n",
      "995   Germany  2014  Developed             89.0             69.0   \n",
      "994   Germany  2015  Developed             81.0             68.0   \n",
      "1000  Germany  2009  Developed             80.0             79.0   \n",
      "1006  Germany  2003  Developed             78.5              9.0   \n",
      "1003  Germany  2006  Developed             79.6             84.0   \n",
      "996   Germany  2013  Developed             86.0             71.0   \n",
      "998   Germany  2011  Developed             85.0             74.0   \n",
      "1002  Germany  2007  Developed             79.8             82.0   \n",
      "1005  Germany  2004  Developed             79.1             86.0   \n",
      "1009  Germany  2000  Developed             78.0             95.0   \n",
      "\n",
      "      infant deaths    Alcohol  percentage expenditure  Hepatitis B  Measles   \\\n",
      "1001              2  11.360000             8285.264655         87.0       917   \n",
      "995               2  11.030000              941.756291         88.0       443   \n",
      "994               2   4.602861                0.000000         88.0      2464   \n",
      "1000              2  11.220000             7641.270645         88.0       574   \n",
      "1006              3  11.920000              582.615703          9.0       779   \n",
      "1003              3  11.760000             6407.535954         87.0      2307   \n",
      "996               2  10.940000              895.877950         88.0      1771   \n",
      "998               2  11.200000              869.790735         88.0      1607   \n",
      "1002              3  11.500000             7777.556353         86.0       567   \n",
      "1005              3  11.830000             5842.374765         88.0       121   \n",
      "1009              3  12.910000             4238.540035         84.0         0   \n",
      "\n",
      "        ...      Polio  Total expenditure  Diphtheria  HIV/AIDS          GDP  \\\n",
      "1001    ...       95.0            1.39000        96.0       0.1  45699.19832   \n",
      "995     ...       94.0           11.30000        95.0       0.1   4792.65288   \n",
      "994     ...       94.0            5.93819        95.0       0.1  41176.88158   \n",
      "1000    ...       95.0           11.40000        96.0       0.1  41732.77250   \n",
      "1006    ...       96.0            1.62000        97.0       0.1   3359.95215   \n",
      "1003    ...       94.0            1.34000        96.0       0.1  36447.87232   \n",
      "996     ...       94.0           11.16000        95.0       0.1   4653.91143   \n",
      "998     ...       94.0            1.93000        95.0       0.1   4681.32796   \n",
      "1002    ...       95.0            1.18000        96.0       0.1  41814.81910   \n",
      "1005    ...       96.0            1.37000        96.0       0.1  34165.93430   \n",
      "1009    ...       94.0            1.10000         9.0       0.1  23718.74670   \n",
      "\n",
      "      Population  thinness  1-19 years  thinness 5-9 years  \\\n",
      "1001    821197.0                   1.1                 1.1   \n",
      "995      89825.0                   1.1                 1.1   \n",
      "994   81686611.0                   1.1                 1.1   \n",
      "1000    819237.0                   1.1                 1.1   \n",
      "1006  82534176.0                   1.1                 1.1   \n",
      "1003  82376451.0                   1.1                 1.1   \n",
      "996     864565.0                   1.1                 1.1   \n",
      "998    8274983.0                   1.1                 1.1   \n",
      "1002  82266372.0                   1.1                 1.1   \n",
      "1005   8251626.0                   1.1                 1.1   \n",
      "1009   8221158.0                   1.2                 1.2   \n",
      "\n",
      "      Income composition of resources  Schooling  \n",
      "1001                            0.903       16.6  \n",
      "995                             0.920       17.0  \n",
      "994                             0.924       17.1  \n",
      "1000                            0.906       16.7  \n",
      "1006                            0.872       16.3  \n",
      "1003                            0.892       16.5  \n",
      "996                             0.919       16.9  \n",
      "998                             0.912       16.8  \n",
      "1002                            0.898       16.6  \n",
      "1005                            0.877       16.4  \n",
      "1009                            0.855       16.2  \n",
      "\n",
      "[11 rows x 22 columns]\n"
     ]
    }
   ],
   "source": [
    "#reading data from csv \n",
    "df = pd.read_csv('datasets_12603_17232_Life Expectancy Data.csv')\n",
    "df.fillna(df.mean(), inplace=True)\n",
    "# Quantity variation of 3 countries (Germany, Netherlands, Spain)\n",
    "# change here \n",
    "country = 'Germany'\n",
    "countryQuantity = 'Life expectancy'\n",
    "countryDataFrame = countryDF(country, df)\n",
    "countryQuantityDF = columnExtractor(countryDataFrame, countryQuantity)\n",
    "#print(countryQuantity, ' \\n ',countryQuantityDF)\n",
    "    \n",
    "desiredFeatures = ['Year', 'Total expenditure']\n",
    "allFeatures = variableColumnExtractor(countryDataFrame, desiredFeatures)\n",
    "#print('allFeatures: \\n',allFeatures)\n",
    "\n",
    "randomRows = countryDataFrame.sample(frac=0.7)\n",
    "print(randomRows)"
   ]
  },
  {
   "cell_type": "code",
   "execution_count": null,
   "metadata": {},
   "outputs": [],
   "source": [
    "countryQuantityPredict, sigma = gaussianRegression(yearsTrain, countryQuantityTrain, yearsTest, countryQuantityTest, years, countryQuantity) "
   ]
  },
  {
   "cell_type": "code",
   "execution_count": null,
   "metadata": {},
   "outputs": [],
   "source": [
    "countryQuantityPredictLR = linearRegression(yearsTrain, countryQuantityTrain, yearsTest, countryQuantityTest, years, countryQuantity)"
   ]
  },
  {
   "cell_type": "code",
   "execution_count": null,
   "metadata": {
    "scrolled": false
   },
   "outputs": [],
   "source": [
    "# error computation for GPR \n",
    "years = columnExtractor(countryDataFrame,'Year').tolist()\n",
    "error = errorComputation(countryDataFrame, countryQuantityPredict, 'Life expectancy',regression_type='GPR')\n",
    "#print('GPR error: ',error)\n",
    "errorPlot(years, error, 'Year', 'Relative Error in %',regression_type='GPR',color='#1f77b4')\n",
    "\n",
    "#print('------------------------------------------')\n",
    "\n",
    "years = columnExtractor(countryDataFrame,'Year').tolist()\n",
    "error = errorComputation(countryDataFrame, countryQuantityPredictLR, 'Life expectancy',regression_type='LR')\n",
    "#print('LR error ',error)\n",
    "errorPlot(years, error, 'Year', 'Relative Error in %',regression_type='LR',color='#ff7f0e')\n",
    "\n",
    "plt.show()\n",
    "\n",
    "#go with rmse for outliers \n",
    "#try using normalization"
   ]
  },
  {
   "cell_type": "code",
   "execution_count": null,
   "metadata": {},
   "outputs": [],
   "source": []
  },
  {
   "cell_type": "code",
   "execution_count": null,
   "metadata": {},
   "outputs": [],
   "source": []
  },
  {
   "cell_type": "code",
   "execution_count": null,
   "metadata": {},
   "outputs": [],
   "source": [
    "\n"
   ]
  }
 ],
 "metadata": {
  "kernelspec": {
   "display_name": "Python 3",
   "language": "python",
   "name": "python3"
  },
  "language_info": {
   "codemirror_mode": {
    "name": "ipython",
    "version": 3
   },
   "file_extension": ".py",
   "mimetype": "text/x-python",
   "name": "python",
   "nbconvert_exporter": "python",
   "pygments_lexer": "ipython3",
   "version": "3.7.3"
  }
 },
 "nbformat": 4,
 "nbformat_minor": 2
}
