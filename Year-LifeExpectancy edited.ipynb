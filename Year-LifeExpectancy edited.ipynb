{
 "cells": [
  {
   "cell_type": "code",
   "execution_count": 1,
   "metadata": {
    "scrolled": false
   },
   "outputs": [],
   "source": [
    "import numpy as np\n",
    "import random \n",
    "import pandas as pd\n",
    "import matplotlib.pyplot as plt \n",
    "\n",
    "from regression_utils import *\n",
    "\n",
    "np.set_printoptions(suppress=True)\n",
    "%matplotlib inline"
   ]
  },
  {
   "cell_type": "code",
   "execution_count": 2,
   "metadata": {},
   "outputs": [],
   "source": [
    "# convention followed in relation to scikit documentation \n",
    "# y = countryQuantity \n",
    "# y1 = countryQuantityTrain\n",
    "# Y = countryQuantityTest\n",
    "# y_pred = countryQuantityPredict\n",
    "\n",
    "# X = years \n",
    "# X1 = yearsTrain\n",
    "# x_mis = yearsTest\n",
    "# x = yearsPredict\n",
    "\n",
    "# c = combinedZip"
   ]
  },
  {
   "cell_type": "code",
   "execution_count": 3,
   "metadata": {
    "scrolled": false
   },
   "outputs": [
    {
     "name": "stdout",
     "output_type": "stream",
     "text": [
      "countryQuantity: \n",
      " 994     81.0\n",
      "995     89.0\n",
      "996     86.0\n",
      "997     86.0\n",
      "998     85.0\n",
      "999     81.0\n",
      "1000    80.0\n",
      "1001    79.9\n",
      "1002    79.8\n",
      "1003    79.6\n",
      "1004    79.2\n",
      "1005    79.1\n",
      "1006    78.5\n",
      "1007    78.4\n",
      "1008    78.3\n",
      "1009    78.0\n",
      "Name: Life expectancy, dtype: float64\n",
      "allFeatures: \n",
      "       Year  Life expectancy  Total expenditure\n",
      "994   2015             81.0            5.93819\n",
      "995   2014             89.0           11.30000\n",
      "996   2013             86.0           11.16000\n",
      "997   2012             86.0            1.99000\n",
      "998   2011             85.0            1.93000\n",
      "999   2010             81.0           11.25000\n",
      "1000  2009             80.0           11.40000\n",
      "1001  2008             79.9            1.39000\n",
      "1002  2007             79.8            1.18000\n",
      "1003  2006             79.6            1.34000\n",
      "1004  2005             79.2            1.52000\n",
      "1005  2004             79.1            1.37000\n",
      "1006  2003             78.5            1.62000\n",
      "1007  2002             78.4            1.40000\n",
      "1008  2001             78.3            1.15000\n",
      "1009  2000             78.0            1.10000\n"
     ]
    },
    {
     "ename": "AttributeError",
     "evalue": "'DataFrame' object has no attribute 'tolist'",
     "output_type": "error",
     "traceback": [
      "\u001b[0;31m---------------------------------------------------------------------------\u001b[0m",
      "\u001b[0;31mAttributeError\u001b[0m                            Traceback (most recent call last)",
      "\u001b[0;32m<ipython-input-3-e5f5964924a1>\u001b[0m in \u001b[0;36m<module>\u001b[0;34m\u001b[0m\n\u001b[1;32m     21\u001b[0m \u001b[0msplit\u001b[0m \u001b[0;34m=\u001b[0m \u001b[0mnp\u001b[0m\u001b[0;34m.\u001b[0m\u001b[0mrandom\u001b[0m\u001b[0;34m.\u001b[0m\u001b[0mrandint\u001b[0m\u001b[0;34m(\u001b[0m\u001b[0;36m1\u001b[0m\u001b[0;34m,\u001b[0m\u001b[0;36m15\u001b[0m\u001b[0;34m)\u001b[0m\u001b[0;34m\u001b[0m\u001b[0;34m\u001b[0m\u001b[0m\n\u001b[1;32m     22\u001b[0m \u001b[0;31m#countryQuantityTrain, yearsTrain, countryQuantityTest, yearsTest = randomizer(countryQuantity, years, split)\u001b[0m\u001b[0;34m\u001b[0m\u001b[0;34m\u001b[0m\u001b[0;34m\u001b[0m\u001b[0m\n\u001b[0;32m---> 23\u001b[0;31m \u001b[0mcountryQuantityTrain\u001b[0m\u001b[0;34m,\u001b[0m \u001b[0mallFeaturesTrain\u001b[0m\u001b[0;34m,\u001b[0m \u001b[0mcountryQuantityTest\u001b[0m\u001b[0;34m,\u001b[0m \u001b[0mallFeaturesTest\u001b[0m \u001b[0;34m=\u001b[0m \u001b[0mrandomizer\u001b[0m\u001b[0;34m(\u001b[0m\u001b[0mcountryQuantity\u001b[0m\u001b[0;34m,\u001b[0m \u001b[0mallFeatures\u001b[0m\u001b[0;34m,\u001b[0m \u001b[0msplit\u001b[0m\u001b[0;34m)\u001b[0m\u001b[0;34m\u001b[0m\u001b[0;34m\u001b[0m\u001b[0m\n\u001b[0m",
      "\u001b[0;32m~/Desktop/bigp/regression_utils.py\u001b[0m in \u001b[0;36mrandomizer\u001b[0;34m(countryQuantity, years, split)\u001b[0m\n\u001b[1;32m     90\u001b[0m \u001b[0;32mdef\u001b[0m \u001b[0mrandomizer\u001b[0m\u001b[0;34m(\u001b[0m\u001b[0mcountryQuantity\u001b[0m\u001b[0;34m,\u001b[0m \u001b[0myears\u001b[0m\u001b[0;34m,\u001b[0m \u001b[0msplit\u001b[0m\u001b[0;34m)\u001b[0m\u001b[0;34m:\u001b[0m\u001b[0;34m\u001b[0m\u001b[0;34m\u001b[0m\u001b[0m\n\u001b[1;32m     91\u001b[0m     \u001b[0mcountryQuantity\u001b[0m \u001b[0;34m=\u001b[0m \u001b[0mcountryQuantity\u001b[0m\u001b[0;34m.\u001b[0m\u001b[0mtolist\u001b[0m\u001b[0;34m(\u001b[0m\u001b[0;34m)\u001b[0m\u001b[0;34m\u001b[0m\u001b[0;34m\u001b[0m\u001b[0m\n\u001b[0;32m---> 92\u001b[0;31m     \u001b[0myears\u001b[0m \u001b[0;34m=\u001b[0m \u001b[0myears\u001b[0m\u001b[0;34m.\u001b[0m\u001b[0mtolist\u001b[0m\u001b[0;34m(\u001b[0m\u001b[0;34m)\u001b[0m\u001b[0;34m\u001b[0m\u001b[0;34m\u001b[0m\u001b[0m\n\u001b[0m\u001b[1;32m     93\u001b[0m \u001b[0;34m\u001b[0m\u001b[0m\n\u001b[1;32m     94\u001b[0m     \u001b[0mprint\u001b[0m\u001b[0;34m(\u001b[0m\u001b[0;34m'Train:Test split is: '\u001b[0m\u001b[0;34m,\u001b[0m\u001b[0msplit\u001b[0m\u001b[0;34m,\u001b[0m\u001b[0;34m':'\u001b[0m\u001b[0;34m,\u001b[0m\u001b[0;36m16\u001b[0m\u001b[0;34m-\u001b[0m\u001b[0msplit\u001b[0m\u001b[0;34m)\u001b[0m\u001b[0;34m\u001b[0m\u001b[0;34m\u001b[0m\u001b[0m\n",
      "\u001b[0;32m~/anaconda3/lib/python3.7/site-packages/pandas/core/generic.py\u001b[0m in \u001b[0;36m__getattr__\u001b[0;34m(self, name)\u001b[0m\n\u001b[1;32m   4374\u001b[0m             \u001b[0;32mif\u001b[0m \u001b[0mself\u001b[0m\u001b[0;34m.\u001b[0m\u001b[0m_info_axis\u001b[0m\u001b[0;34m.\u001b[0m\u001b[0m_can_hold_identifiers_and_holds_name\u001b[0m\u001b[0;34m(\u001b[0m\u001b[0mname\u001b[0m\u001b[0;34m)\u001b[0m\u001b[0;34m:\u001b[0m\u001b[0;34m\u001b[0m\u001b[0;34m\u001b[0m\u001b[0m\n\u001b[1;32m   4375\u001b[0m                 \u001b[0;32mreturn\u001b[0m \u001b[0mself\u001b[0m\u001b[0;34m[\u001b[0m\u001b[0mname\u001b[0m\u001b[0;34m]\u001b[0m\u001b[0;34m\u001b[0m\u001b[0;34m\u001b[0m\u001b[0m\n\u001b[0;32m-> 4376\u001b[0;31m             \u001b[0;32mreturn\u001b[0m \u001b[0mobject\u001b[0m\u001b[0;34m.\u001b[0m\u001b[0m__getattribute__\u001b[0m\u001b[0;34m(\u001b[0m\u001b[0mself\u001b[0m\u001b[0;34m,\u001b[0m \u001b[0mname\u001b[0m\u001b[0;34m)\u001b[0m\u001b[0;34m\u001b[0m\u001b[0;34m\u001b[0m\u001b[0m\n\u001b[0m\u001b[1;32m   4377\u001b[0m \u001b[0;34m\u001b[0m\u001b[0m\n\u001b[1;32m   4378\u001b[0m     \u001b[0;32mdef\u001b[0m \u001b[0m__setattr__\u001b[0m\u001b[0;34m(\u001b[0m\u001b[0mself\u001b[0m\u001b[0;34m,\u001b[0m \u001b[0mname\u001b[0m\u001b[0;34m,\u001b[0m \u001b[0mvalue\u001b[0m\u001b[0;34m)\u001b[0m\u001b[0;34m:\u001b[0m\u001b[0;34m\u001b[0m\u001b[0;34m\u001b[0m\u001b[0m\n",
      "\u001b[0;31mAttributeError\u001b[0m: 'DataFrame' object has no attribute 'tolist'"
     ]
    }
   ],
   "source": [
    "#reading data from csv \n",
    "df = pd.read_csv('datasets_12603_17232_Life Expectancy Data.csv')\n",
    "df.fillna(df.mean(), inplace=True)\n",
    "# Quantity variation of 3 countries (Germany, Netherlands, Spain)\n",
    "# change here \n",
    "country = 'Germany'\n",
    "countryDataFrame = countryDF(country, df)\n",
    "countryQuantity = columnExtractor(countryDataFrame,'Life expectancy')\n",
    "print('countryQuantity: \\n',countryQuantity)\n",
    "    \n",
    "desiredFeatures = ['Year', 'Life expectancy', 'Total expenditure']\n",
    "allFeatures = variableColumnExtractor(countryDataFrame, desiredFeatures)\n",
    "print('allFeatures: \\n',allFeatures)\n",
    "\n",
    "#percentage_expenditure = columnExtractor(countryDataFrame,'percentage expenditure')\n",
    "#print(percentage_expenditure)\n",
    "\n",
    "#plotQuantities(years, countryQuantity,'Years','Population', country,'Population vs Years')\n",
    "#plotQuantities(years, countryQuantity, 'Years', 'Life Expectancy', country, 'Life Expectancy vs Years')\n",
    "\n",
    "split = np.random.randint(1,15)\n",
    "#countryQuantityTrain, yearsTrain, countryQuantityTest, yearsTest = randomizer(countryQuantity, years, split)\n",
    "countryQuantityTrain, allFeaturesTrain, countryQuantityTest, allFeaturesTest = randomizer(countryQuantity, allFeatures, split)\n"
   ]
  },
  {
   "cell_type": "code",
   "execution_count": null,
   "metadata": {},
   "outputs": [],
   "source": [
    "countryQuantityPredict, sigma = gaussianRegression(yearsTrain, countryQuantityTrain, yearsTest, countryQuantityTest, years, countryQuantity) "
   ]
  },
  {
   "cell_type": "code",
   "execution_count": null,
   "metadata": {},
   "outputs": [],
   "source": [
    "countryQuantityPredictLR = linearRegression(yearsTrain, countryQuantityTrain, yearsTest, countryQuantityTest, years, countryQuantity)"
   ]
  },
  {
   "cell_type": "code",
   "execution_count": null,
   "metadata": {
    "scrolled": false
   },
   "outputs": [],
   "source": [
    "# error computation for GPR \n",
    "years = columnExtractor(countryDataFrame,'Year').tolist()\n",
    "error = errorComputation(countryDataFrame, countryQuantityPredict, 'Life expectancy',regression_type='GPR')\n",
    "#print('GPR error: ',error)\n",
    "errorPlot(years, error, 'Year', 'Relative Error in %',regression_type='GPR',color='#1f77b4')\n",
    "\n",
    "#print('------------------------------------------')\n",
    "\n",
    "years = columnExtractor(countryDataFrame,'Year').tolist()\n",
    "error = errorComputation(countryDataFrame, countryQuantityPredictLR, 'Life expectancy',regression_type='LR')\n",
    "#print('LR error ',error)\n",
    "errorPlot(years, error, 'Year', 'Relative Error in %',regression_type='LR',color='#ff7f0e')\n",
    "\n",
    "plt.show()\n",
    "\n",
    "#go with rmse for outliers \n",
    "#try using normalization"
   ]
  },
  {
   "cell_type": "code",
   "execution_count": null,
   "metadata": {},
   "outputs": [],
   "source": []
  },
  {
   "cell_type": "code",
   "execution_count": null,
   "metadata": {},
   "outputs": [],
   "source": []
  },
  {
   "cell_type": "code",
   "execution_count": null,
   "metadata": {},
   "outputs": [],
   "source": []
  }
 ],
 "metadata": {
  "kernelspec": {
   "display_name": "Python 3",
   "language": "python",
   "name": "python3"
  },
  "language_info": {
   "codemirror_mode": {
    "name": "ipython",
    "version": 3
   },
   "file_extension": ".py",
   "mimetype": "text/x-python",
   "name": "python",
   "nbconvert_exporter": "python",
   "pygments_lexer": "ipython3",
   "version": "3.7.3"
  }
 },
 "nbformat": 4,
 "nbformat_minor": 2
}
