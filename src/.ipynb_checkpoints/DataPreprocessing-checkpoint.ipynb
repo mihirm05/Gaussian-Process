{
 "cells": [
  {
   "cell_type": "code",
   "execution_count": 1,
   "metadata": {},
   "outputs": [],
   "source": [
    "import numpy as np\n",
    "import pandas as pd\n",
    "import matplotlib.pyplot as plt\n",
    "import seaborn as sns\n",
    "import scipy.stats as stats\n",
    "from scipy.stats.mstats import winsorize\n",
    "from sklearn.decomposition import PCA\n",
    "from sklearn.preprocessing import scale\n",
    "import os\n",
    "%matplotlib inline"
   ]
  },
  {
   "cell_type": "code",
   "execution_count": 2,
   "metadata": {},
   "outputs": [],
   "source": [
    "#load data \n",
    "df = pd.read_csv('datasets_12603_17232_Life Expectancy Data.csv')"
   ]
  },
  {
   "cell_type": "code",
   "execution_count": null,
   "metadata": {},
   "outputs": [],
   "source": [
    "df.rename(columns = lambda x: x.strip().replace(' ', '_').lower(), inplace=True)\n",
    "df.rename(columns = {'thinness__1-19_years':'thinness_10-19_years'}, inplace=True)\n",
    "df.columns\n",
    "df.isnull().sum()"
   ]
  },
  {
   "cell_type": "code",
   "execution_count": null,
   "metadata": {},
   "outputs": [],
   "source": [
    "#let's look at the distributions of our continuous variables\n",
    "num_cols = ['life_expectancy', 'adult_mortality',\n",
    "       'infant_deaths', 'alcohol', 'percentage_expenditure', 'hepatitis_b',\n",
    "       'measles', 'bmi', 'under-five_deaths', 'polio', 'total_expenditure',\n",
    "       'diphtheria', 'hiv/aids', 'gdp', 'population', 'thinness_10-19_years',\n",
    "       'thinness_5-9_years', 'income_composition_of_resources', 'schooling']\n",
    "\n",
    "na_cols = ['life_expectancy', 'adult_mortality', 'alcohol', 'hepatitis_b',\n",
    "       'bmi', 'polio', 'total_expenditure','diphtheria', 'gdp', 'population', \n",
    "        'thinness_10-19_years', 'thinness_5-9_years', \n",
    "        'income_composition_of_resources', 'schooling']"
   ]
  },
  {
   "cell_type": "code",
   "execution_count": null,
   "metadata": {},
   "outputs": [],
   "source": [
    "# replace NaN by mean \n",
    "for col in na_cols:\n",
    "    df[col].fillna(df[col].mean(), inplace=True)"
   ]
  },
  {
   "cell_type": "code",
   "execution_count": null,
   "metadata": {},
   "outputs": [],
   "source": [
    "# detecting outliers and distribution via histograms\n",
    "plt.figure(figsize=(20,60))\n",
    "\n",
    "for i, col in enumerate(num_cols):\n",
    "    plt.subplot(len(na_cols), 4, i+1)\n",
    "    sns.distplot(df[col], color=('xkcd:green'))\n",
    "    plt.title(f'Distribution of {col}', fontsize=18)\n",
    "    plt.xlabel('')\n",
    "    plt.axvline(le_df4.loc[:,col].mean(), color=('xkcd:cranberry')) #red line is the mean\n",
    "\n",
    "plt.tight_layout()\n",
    "plt.show()"
   ]
  },
  {
   "cell_type": "code",
   "execution_count": null,
   "metadata": {},
   "outputs": [],
   "source": [
    "# cleaning the headers of the columns \n",
    "orig_cols = list(df.columns)\n",
    "new_cols = []\n",
    "for col in orig_cols:\n",
    "    new_cols.append(col.strip().replace('  ', ' ').replace(' ', '_').lower())\n",
    "df.columns = new_cols"
   ]
  },
  {
   "cell_type": "code",
   "execution_count": null,
   "metadata": {},
   "outputs": [],
   "source": [
    "# rectifying error in the column name \n",
    "df.rename(columns={'thinness_1-19_years':'thinness_10-19_years'}, inplace=True)"
   ]
  },
  {
   "cell_type": "code",
   "execution_count": null,
   "metadata": {},
   "outputs": [],
   "source": [
    "# description of the dataset \n",
    "df.describe().iloc[:, 1:]"
   ]
  },
  {
   "cell_type": "code",
   "execution_count": null,
   "metadata": {
    "scrolled": false
   },
   "outputs": [],
   "source": [
    "# boxplots to analyse the outliers \n",
    "plt.figure(figsize=(15,10))\n",
    "for i, col in enumerate(['adult_mortality', \n",
    "                         'infant_deaths', \n",
    "                         'bmi', \n",
    "                         'under-five_deaths', \n",
    "                         'gdp', \n",
    "                         'population'], start=1):\n",
    "\n",
    "    plt.subplot(2, 3, i)\n",
    "    df.boxplot(col)"
   ]
  },
  {
   "cell_type": "code",
   "execution_count": null,
   "metadata": {},
   "outputs": [],
   "source": [
    "mort_5_percentile = np.percentile(df.adult_mortality.dropna(), 5)\n",
    "df.adult_mortality = df.apply(lambda x: np.nan if x.adult_mortality < mort_5_percentile else x.adult_mortality, axis=1)\n",
    "df.infant_deaths = df.infant_deaths.replace(0, np.nan)\n",
    "df.bmi = df.apply(lambda x: np.nan if (x.bmi < 10 or x.bmi > 50) else x.bmi, axis=1)\n",
    "df['under-five_deaths'] = df['under-five_deaths'].replace(0, np.nan)\n"
   ]
  },
  {
   "cell_type": "code",
   "execution_count": null,
   "metadata": {},
   "outputs": [],
   "source": [
    "# certain \"outliers\" would be replaced with null rather than illogical valeus mort_5_percentile = np.percentile(df.adult_mortality.dropna(), 5)\n",
    "df.adult_mortality = df.apply(lambda x: np.nan if x.adult_mortality < mort_5_percentile else x.adult_mortality, axis=1)\n",
    "df.infant_deaths = df.infant_deaths.replace(0, np.nan)\n",
    "df.bmi = df.apply(lambda x: np.nan if (x.bmi < 10 or x.bmi > 50) else x.bmi, axis=1)\n",
    "df['under-five_deaths'] = df['under-five_deaths'].replace(0, np.nan)"
   ]
  },
  {
   "cell_type": "code",
   "execution_count": null,
   "metadata": {},
   "outputs": [],
   "source": [
    "df.info()"
   ]
  },
  {
   "cell_type": "code",
   "execution_count": null,
   "metadata": {},
   "outputs": [],
   "source": [
    "# keeps count of null and percentage of null out of all values \n",
    "def nulls_breakdown(df=df):\n",
    "    df_cols = list(df.columns)\n",
    "    cols_total_count = len(list(df.columns))\n",
    "    cols_count = 0\n",
    "    for loc, col in enumerate(df_cols):\n",
    "        null_count = df[col].isnull().sum()\n",
    "        total_count = df[col].isnull().count()\n",
    "        percent_null = round(null_count/total_count*100, 2)\n",
    "        if null_count > 0:\n",
    "            cols_count += 1\n",
    "            print('[iloc = {}] {} has {} null values: {}% null'.format(loc, col, null_count, percent_null))\n",
    "    cols_percent_null = round(cols_count/cols_total_count*100, 2)\n",
    "    print('Out of {} total columns, {} contain null values; {}% columns contain null values.'.format(cols_total_count, cols_count, cols_percent_null))"
   ]
  },
  {
   "cell_type": "code",
   "execution_count": null,
   "metadata": {},
   "outputs": [],
   "source": [
    "nulls_breakdown()"
   ]
  },
  {
   "cell_type": "code",
   "execution_count": null,
   "metadata": {},
   "outputs": [],
   "source": [
    "imputed_data = []\n",
    "for year in list(df.year.unique()):\n",
    "    year_data = df[df.year == year].copy()\n",
    "    for col in list(year_data.columns)[3:]:\n",
    "        year_data[col] = year_data[col].fillna(year_data[col].dropna().mean()).copy()\n",
    "    imputed_data.append(year_data)\n",
    "df = pd.concat(imputed_data).copy()"
   ]
  },
  {
   "cell_type": "code",
   "execution_count": null,
   "metadata": {},
   "outputs": [],
   "source": [
    "nulls_breakdown(df)"
   ]
  },
  {
   "cell_type": "code",
   "execution_count": null,
   "metadata": {},
   "outputs": [],
   "source": [
    "cont_vars = list(df.columns)[3:]\n",
    "def outliers_visual(data):\n",
    "    plt.figure(figsize=(15, 40))\n",
    "    i = 0\n",
    "    for col in cont_vars:\n",
    "        i += 1\n",
    "        plt.subplot(10, 4, i)\n",
    "        plt.boxplot(data[col])\n",
    "        plt.title('{} boxplot'.format(col))\n",
    "        i += 1\n",
    "        plt.subplot(10, 4, i)\n",
    "        plt.hist(data[col])\n",
    "        plt.title('{} histogram'.format(col))\n",
    "    plt.show()\n",
    "outliers_visual(df)"
   ]
  },
  {
   "cell_type": "code",
   "execution_count": null,
   "metadata": {},
   "outputs": [],
   "source": [
    "def outlier_count(col, data=df):\n",
    "    print(15*'-' + col + 15*'-')\n",
    "    q75, q25 = np.percentile(data[col], [75, 25])\n",
    "    iqr = q75 - q25\n",
    "    min_val = q25 - (iqr*1.5)\n",
    "    max_val = q75 + (iqr*1.5)\n",
    "    outlier_count = len(np.where((data[col] > max_val) | (data[col] < min_val))[0])\n",
    "    outlier_percent = round(outlier_count/len(data[col])*100, 2)\n",
    "    print('Number of outliers: {}'.format(outlier_count))\n",
    "    print('Percent of data that is outlier: {}%'.format(outlier_percent))"
   ]
  },
  {
   "cell_type": "code",
   "execution_count": null,
   "metadata": {},
   "outputs": [],
   "source": [
    "for col in cont_vars:\n",
    "    outlier_count(col)"
   ]
  },
  {
   "cell_type": "code",
   "execution_count": null,
   "metadata": {},
   "outputs": [],
   "source": [
    "for col in cont_vars:\n",
    "    outlier_count(col)"
   ]
  },
  {
   "cell_type": "code",
   "execution_count": null,
   "metadata": {},
   "outputs": [],
   "source": [
    "def test_wins(col, lower_limit=0, upper_limit=0, show_plot=True):\n",
    "    wins_data = winsorize(df[col], limits=(lower_limit, upper_limit))\n",
    "    wins_dict[col] = wins_data\n",
    "    if show_plot == True:\n",
    "        plt.figure(figsize=(15,5))\n",
    "        plt.subplot(121)\n",
    "        plt.boxplot(df[col])\n",
    "        plt.title('original {}'.format(col))\n",
    "        plt.subplot(122)\n",
    "        plt.boxplot(wins_data)\n",
    "        plt.title('wins=({},{}) {}'.format(lower_limit, upper_limit, col))\n",
    "        plt.show()"
   ]
  },
  {
   "cell_type": "code",
   "execution_count": null,
   "metadata": {},
   "outputs": [],
   "source": [
    "wins_dict = {}\n",
    "test_wins(cont_vars[0], lower_limit=.01, show_plot=True)\n",
    "test_wins(cont_vars[1], upper_limit=.04, show_plot=False)\n",
    "test_wins(cont_vars[2], upper_limit=.05, show_plot=False)\n",
    "test_wins(cont_vars[3], upper_limit=.0025, show_plot=False)\n",
    "test_wins(cont_vars[4], upper_limit=.135, show_plot=False)\n",
    "test_wins(cont_vars[5], lower_limit=.1, show_plot=False)\n",
    "test_wins(cont_vars[6], upper_limit=.19, show_plot=False)\n",
    "test_wins(cont_vars[7], upper_limit=.05, show_plot=False)\n",
    "test_wins(cont_vars[8], lower_limit=.1, show_plot=False)\n",
    "test_wins(cont_vars[9], upper_limit=.02, show_plot=False)\n",
    "test_wins(cont_vars[10], lower_limit=.105, show_plot=False)\n",
    "test_wins(cont_vars[11], upper_limit=.185, show_plot=False)\n",
    "test_wins(cont_vars[12], upper_limit=.105, show_plot=False)\n",
    "test_wins(cont_vars[13], upper_limit=.07, show_plot=False)\n",
    "test_wins(cont_vars[14], upper_limit=.035, show_plot=False)\n",
    "test_wins(cont_vars[15], upper_limit=.035, show_plot=False)\n",
    "test_wins(cont_vars[16], lower_limit=.05, show_plot=False)\n",
    "test_wins(cont_vars[17], lower_limit=.025, upper_limit=.005, show_plot=False)"
   ]
  },
  {
   "cell_type": "code",
   "execution_count": null,
   "metadata": {},
   "outputs": [],
   "source": [
    "plt.figure(figsize=(15,5))\n",
    "for i, col in enumerate(cont_vars, 1):\n",
    "    plt.subplot(2, 9, i)\n",
    "    plt.boxplot(wins_dict[col])\n",
    "plt.tight_layout()\n",
    "plt.show()"
   ]
  },
  {
   "cell_type": "code",
   "execution_count": null,
   "metadata": {},
   "outputs": [],
   "source": []
  }
 ],
 "metadata": {
  "kernelspec": {
   "display_name": "Python 3",
   "language": "python",
   "name": "python3"
  },
  "language_info": {
   "codemirror_mode": {
    "name": "ipython",
    "version": 3
   },
   "file_extension": ".py",
   "mimetype": "text/x-python",
   "name": "python",
   "nbconvert_exporter": "python",
   "pygments_lexer": "ipython3",
   "version": "3.7.3"
  }
 },
 "nbformat": 4,
 "nbformat_minor": 2
}
