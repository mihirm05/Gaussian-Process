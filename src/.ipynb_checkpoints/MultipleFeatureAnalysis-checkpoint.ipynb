{
 "cells": [
  {
   "cell_type": "code",
   "execution_count": null,
   "metadata": {
    "scrolled": false
   },
   "outputs": [],
   "source": [
    "import numpy as np\n",
    "import random \n",
    "import pandas as pd\n",
    "import matplotlib.pyplot as plt \n",
    "import seaborn as sns\n",
    "\n",
    "from regression_utils import *\n",
    "\n",
    "np.set_printoptions(suppress=True)\n",
    "%matplotlib inline"
   ]
  },
  {
   "cell_type": "code",
   "execution_count": null,
   "metadata": {},
   "outputs": [],
   "source": [
    "# convention followed in relation to scikit documentation \n",
    "# y = countryQuantity \n",
    "# y1 = countryQuantityTrain\n",
    "# Y = countryQuantityTest\n",
    "# y_pred = countryQuantityPredict\n",
    "\n",
    "# X = years \n",
    "# X1 = yearsTrain\n",
    "# x_mis = yearsTest\n",
    "# x = yearsPredict\n",
    "\n",
    "# c = combinedZip"
   ]
  },
  {
   "cell_type": "code",
   "execution_count": null,
   "metadata": {
    "scrolled": false
   },
   "outputs": [],
   "source": [
    "#reading data from csv \n",
    "df = pd.read_csv('/Gaussian-Process/data/datasets_12603_17232_Life Expectancy Data.csv')\n",
    "df.fillna(df.mean(), inplace=True)\n",
    "# Quantity variation of 3 countries (Germany, Netherlands, Spain)\n",
    "# change here \n",
    "country = 'Germany'\n",
    "countryQuantity = 'Life expectancy'\n",
    "countryDataFrame = countryDF(country, df)   \n",
    "\n",
    "randomRowsTrain = countryDataFrame.sample(frac=0.7)\n",
    "randomRowsTest = countryDataFrame.loc[~countryDataFrame.index.isin(randomRowsTrain.index)]\n",
    "\n",
    "countryQuantityTrain = columnExtractor(randomRowsTrain, countryQuantity)\n",
    "countryQuantityTest = columnExtractor(randomRowsTest, countryQuantity)\n",
    "print('Training data (X) : \\n',countryQuantityTrain)\n",
    "print('Test data (X): \\n',countryQuantityTest)\n",
    "\n",
    "\n",
    "desiredFeatures = ['Year', 'Total expenditure']\n",
    "allFeaturesTrain = variableColumnExtractor(randomRowsTrain, desiredFeatures)\n",
    "allFeaturesTest = variableColumnExtractor(randomRowsTest, desiredFeatures)\n",
    "print('Training data (Y): \\n',allFeaturesTrain)\n",
    "print('Test data (Y): \\n',allFeaturesTest)\n",
    "\n",
    "#df_percent = df.sample(frac=0.7)\n",
    "#df_rest = df.loc[~df.index.isin(df_percent.index)]\n",
    "#countryQuantityTrain, yearsTrain, countryQuantityTest, yearsTest\n"
   ]
  },
  {
   "cell_type": "code",
   "execution_count": null,
   "metadata": {},
   "outputs": [],
   "source": [
    "##Gaussian regression analysis \n",
    "\n",
    "lengthScale = np.random.randint(50) \n",
    "kernel = C(1.0, (1e-3, 1e3)) * RBF(lengthScale, (1e-2, 1e2))\n",
    "\n",
    "gp = GaussianProcessRegressor(kernel=kernel, n_restarts_optimizer=9)\n",
    "\n",
    "gp.fit(allFeaturesTrain, countryQuantityTrain)\n",
    "countryQuantityPredict, sigma = gp.predict(allFeaturesTest, return_std=True)\n",
    "\n",
    "print('Test data (X): \\n',countryQuantityTest)\n",
    "print('Test data (Y): \\n',allFeaturesTest)\n",
    "print('Predicted data (X): \\n',allFeaturesTest)\n",
    "print('Predicted data (Y): \\n',countryQuantityPredict)"
   ]
  },
  {
   "cell_type": "code",
   "execution_count": null,
   "metadata": {},
   "outputs": [],
   "source": [
    "##Linear regression analysis \n",
    "\n",
    "regr = linear_model.LinearRegression()\n",
    "regr.fit(allFeaturesTrain, countryQuantityTrain)\n",
    "\n",
    "countryQuantityPredictLR = regr.predict(allFeaturesTest)\n",
    "\n",
    "print(countryQuantityPredictLR)"
   ]
  },
  {
   "cell_type": "code",
   "execution_count": null,
   "metadata": {
    "scrolled": false
   },
   "outputs": [],
   "source": [
    "# error computation for GPR \n",
    "years = columnExtractor(countryDataFrame,'Year').tolist()\n",
    "error = errorComputation(countryDataFrame, countryQuantityPredict, 'Life expectancy',regression_type='GPR')\n",
    "#print('GPR error: ',error)\n",
    "errorPlot(years, error, 'Year', 'Relative Error in %',regression_type='GPR',color='#1f77b4')\n",
    "\n",
    "#print('------------------------------------------')\n",
    "\n",
    "years = columnExtractor(countryDataFrame,'Year').tolist()\n",
    "error = errorComputation(countryDataFrame, countryQuantityPredictLR, 'Life expectancy',regression_type='LR')\n",
    "#print('LR error ',error)\n",
    "errorPlot(years, error, 'Year', 'Relative Error in %',regression_type='LR',color='#ff7f0e')\n",
    "\n",
    "plt.show()\n",
    "\n",
    "#go with rmse for outliers \n",
    "#try using normalization"
   ]
  },
  {
   "cell_type": "code",
   "execution_count": null,
   "metadata": {},
   "outputs": [],
   "source": [
    "#https://yugeten.github.io/posts/2019/09/GP/\n",
    "#https://scikit-learn.org/stable/auto_examples/gaussian_process/plot_gpr_co2.html\n",
    "#https://scikit-learn.org/stable/auto_examples/gaussian_process/plot_gpr_co2.html#sphx-glr-download-auto-examples-gaussian-process-plot-gpr-co2-py\n",
    "#https://ogrisel.github.io/scikit-learn.org/sklearn-tutorial/tutorial/statistical_inference/supervised_learning.html\n"
   ]
  },
  {
   "cell_type": "code",
   "execution_count": null,
   "metadata": {},
   "outputs": [],
   "source": []
  },
  {
   "cell_type": "code",
   "execution_count": null,
   "metadata": {},
   "outputs": [],
   "source": [
    "\n"
   ]
  }
 ],
 "metadata": {
  "kernelspec": {
   "display_name": "Python 3",
   "language": "python",
   "name": "python3"
  },
  "language_info": {
   "codemirror_mode": {
    "name": "ipython",
    "version": 3
   },
   "file_extension": ".py",
   "mimetype": "text/x-python",
   "name": "python",
   "nbconvert_exporter": "python",
   "pygments_lexer": "ipython3",
   "version": "3.7.3"
  }
 },
 "nbformat": 4,
 "nbformat_minor": 2
}
