{
 "cells": [
  {
   "cell_type": "code",
   "execution_count": null,
   "metadata": {
    "scrolled": false
   },
   "outputs": [],
   "source": [
    "import numpy as np\n",
    "import random \n",
    "import pandas as pd\n",
    "import matplotlib.pyplot as plt \n",
    "\n",
    "from pathlib import Path\n",
    "from regression_utils import *\n",
    "\n",
    "np.set_printoptions(suppress=True)\n",
    "%matplotlib inline"
   ]
  },
  {
   "cell_type": "code",
   "execution_count": null,
   "metadata": {},
   "outputs": [],
   "source": [
    "# convention followed in relation to scikit documentation \n",
    "# y = countryQuantity \n",
    "# y1 = countryQuantityTrain\n",
    "# Y = countryQuantityTest\n",
    "# y_pred = countryQuantityPredict\n",
    "\n",
    "# X = years \n",
    "# X1 = yearsTrain\n",
    "# x_mis = yearsTest\n",
    "# x = yearsPredict\n",
    "\n",
    "# c = combinedZip"
   ]
  },
  {
   "cell_type": "code",
   "execution_count": null,
   "metadata": {
    "scrolled": false
   },
   "outputs": [],
   "source": [
    "#reading data from csv \n",
    "df = pd.read_csv('datasets_12603_17232_Life Expectancy Data.csv')\n",
    "# renaming the columns by removing additional spaces \n",
    "df.rename(columns = lambda x: x.strip().replace(' ', '_').lower(), inplace=True)\n",
    "\n",
    "# renaming the column appropriately \n",
    "df.rename(columns = {'thinness_1-19_years':'thinness_10-19_years'}, inplace=True)\n",
    "df.columns"
   ]
  },
  {
   "cell_type": "code",
   "execution_count": null,
   "metadata": {},
   "outputs": [],
   "source": [
    "df.fillna(df.mean(), inplace=True)\n",
    "\n",
    "# change here \n",
    "country = 'Germany'\n",
    "\n",
    "# extract dataframe for selected country\n",
    "#countryDataFrame = countryDF(country, df)\n",
    "%store -r countryDataFrame\n",
    "\n",
    "# Feature 1\n",
    "countryQuantity = columnExtractor(countryDataFrame,'life_expectancy')\n",
    "\n",
    "# Feature 2\n",
    "years = columnExtractor(countryDataFrame,'year')\n",
    "\n",
    "# Visualization \n",
    "plotQuantities(years, countryQuantity, 'Years', 'Life Expectancy', country, 'Life Expectancy vs Years')\n",
    "\n",
    "np.random.seed(5)\n",
    "split = np.random.randint(1,15)\n",
    "countryQuantityTrain, yearsTrain, countryQuantityTest, yearsTest = randomizer(countryQuantity, years, split)\n"
   ]
  },
  {
   "cell_type": "code",
   "execution_count": null,
   "metadata": {},
   "outputs": [],
   "source": [
    "# Gaussian Regression \n",
    "countryQuantityPredict, sigma = gaussianRegression(yearsTrain, countryQuantityTrain, yearsTest, countryQuantityTest, years, countryQuantity) "
   ]
  },
  {
   "cell_type": "code",
   "execution_count": null,
   "metadata": {
    "scrolled": true
   },
   "outputs": [],
   "source": [
    "# Linear Regression \n",
    "countryQuantityPredictLR = linearRegression(yearsTrain, countryQuantityTrain, yearsTest, countryQuantityTest, years, countryQuantity)"
   ]
  },
  {
   "cell_type": "code",
   "execution_count": null,
   "metadata": {
    "scrolled": false
   },
   "outputs": [],
   "source": [
    "# error computation for GPR \n",
    "qty = 'life_expectancy'\n",
    "groundTruth = columnExtractor(countryDataFrame,qty).tolist()[::-1]\n",
    "print('groundTruth values \\n',groundTruth)\n",
    "\n",
    "countryQuantityPredict = [round(float(i),1) for i in list(countryQuantityPredict)]\n",
    "errorGPR = np.sqrt(mean_squared_error(groundTruth, countryQuantityPredict))\n",
    "print('GPR prediction \\n',countryQuantityPredict)\n",
    "\n",
    "print('------------------------------------------')\n",
    "\n",
    "\n",
    "# error computation for LR \n",
    "countryQuantityPredictLR = [round(float(i),1) for i in list(countryQuantityPredictLR)]\n",
    "print('LR prediction \\n',list(countryQuantityPredictLR))\n",
    "errorLR = np.sqrt(mean_squared_error(groundTruth, countryQuantityPredictLR))\n",
    "print('')\n",
    "\n",
    "print('GPR error: ',errorGPR)\n",
    "print('LR error: ',errorLR)\n",
    "\n",
    "#go with rmse for outliers \n",
    "#try using normalization"
   ]
  },
  {
   "cell_type": "code",
   "execution_count": null,
   "metadata": {},
   "outputs": [],
   "source": []
  }
 ],
 "metadata": {
  "kernelspec": {
   "display_name": "Python 3",
   "language": "python",
   "name": "python3"
  },
  "language_info": {
   "codemirror_mode": {
    "name": "ipython",
    "version": 3
   },
   "file_extension": ".py",
   "mimetype": "text/x-python",
   "name": "python",
   "nbconvert_exporter": "python",
   "pygments_lexer": "ipython3",
   "version": "3.7.3"
  }
 },
 "nbformat": 4,
 "nbformat_minor": 2
}
